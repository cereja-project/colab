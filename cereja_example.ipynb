{
  "nbformat": 4,
  "nbformat_minor": 0,
  "metadata": {
    "colab": {
      "name": "cereja_example.ipynb",
      "provenance": [],
      "collapsed_sections": [],
      "toc_visible": true,
      "include_colab_link": true
    },
    "kernelspec": {
      "name": "python3",
      "display_name": "Python 3"
    }
  },
  "cells": [
    {
      "cell_type": "markdown",
      "metadata": {
        "id": "view-in-github",
        "colab_type": "text"
      },
      "source": [
        "<a href=\"https://colab.research.google.com/github/jlsneto/cereja/blob/master/docs/cereja_example.ipynb\" target=\"_parent\"><img src=\"https://colab.research.google.com/assets/colab-badge.svg\" alt=\"Open In Colab\"/></a>"
      ]
    },
    {
      "cell_type": "markdown",
      "metadata": {
        "id": "8OIpCsdKwlet",
        "colab_type": "text"
      },
      "source": [
        "#Install cereja"
      ]
    },
    {
      "cell_type": "code",
      "metadata": {
        "id": "B1qNEuxZwVs_",
        "colab_type": "code",
        "outputId": "e264d8e0-6a1c-4173-d0ba-1853d14c74f0",
        "colab": {
          "base_uri": "https://localhost:8080/",
          "height": 34
        }
      },
      "source": [
        "!pip install cereja --upgrade"
      ],
      "execution_count": 1,
      "outputs": [
        {
          "output_type": "stream",
          "text": [
            "Requirement already up-to-date: cereja in /usr/local/lib/python3.6/dist-packages (1.1.2.post1)\n"
          ],
          "name": "stdout"
        }
      ]
    },
    {
      "cell_type": "markdown",
      "metadata": {
        "id": "B-6AKLqiwuGR",
        "colab_type": "text"
      },
      "source": [
        "#Import cereja"
      ]
    },
    {
      "cell_type": "code",
      "metadata": {
        "id": "KhRIV54DxZ6Z",
        "colab_type": "code",
        "outputId": "41dabacb-790a-4545-d93d-b6a7a31516a7",
        "colab": {
          "base_uri": "https://localhost:8080/",
          "height": 34
        }
      },
      "source": [
        "import cereja as cj"
      ],
      "execution_count": 2,
      "outputs": [
        {
          "output_type": "stream",
          "text": [
            "\u001b[31m🍒\u001b[30m Using Cereja v.1.1.2-1\n"
          ],
          "name": "stdout"
        }
      ]
    },
    {
      "cell_type": "markdown",
      "metadata": {
        "id": "_FvoFjndxKIk",
        "colab_type": "text"
      },
      "source": [
        "##Commons"
      ]
    },
    {
      "cell_type": "markdown",
      "metadata": {
        "id": "2lxP-3C2tIZB",
        "colab_type": "text"
      },
      "source": [
        "###is_iterable\n",
        "return whether an object is iterable or not."
      ]
    },
    {
      "cell_type": "code",
      "metadata": {
        "id": "w_6TLC0DxI1f",
        "colab_type": "code",
        "cellView": "both",
        "outputId": "458a4a03-49c8-4a42-9c0a-4e021d49120d",
        "colab": {
          "base_uri": "https://localhost:8080/",
          "height": 34
        }
      },
      "source": [
        "my_var = [1,2,3] # change value and execute the cell\n",
        "cj.is_iterable(my_var)"
      ],
      "execution_count": 3,
      "outputs": [
        {
          "output_type": "execute_result",
          "data": {
            "text/plain": [
              "True"
            ]
          },
          "metadata": {
            "tags": []
          },
          "execution_count": 3
        }
      ]
    },
    {
      "cell_type": "code",
      "metadata": {
        "id": "bSJ69PuWiYGx",
        "colab_type": "code",
        "outputId": "e0b040a7-73c2-4a3d-f129-082eb417e4be",
        "colab": {
          "base_uri": "https://localhost:8080/",
          "height": 34
        }
      },
      "source": [
        "cj.is_iterable('hi')"
      ],
      "execution_count": 4,
      "outputs": [
        {
          "output_type": "execute_result",
          "data": {
            "text/plain": [
              "True"
            ]
          },
          "metadata": {
            "tags": []
          },
          "execution_count": 4
        }
      ]
    },
    {
      "cell_type": "markdown",
      "metadata": {
        "id": "rCjh0owqhhUb",
        "colab_type": "text"
      },
      "source": [
        "###is_sequence\n",
        "\n",
        "Return whether an object a Sequence or not, exclude strings."
      ]
    },
    {
      "cell_type": "code",
      "metadata": {
        "id": "tAPeDiyRhzWS",
        "colab_type": "code",
        "outputId": "20aedc05-8eaf-4ec6-9f53-e1c7fef2b5c1",
        "colab": {
          "base_uri": "https://localhost:8080/",
          "height": 34
        }
      },
      "source": [
        "cj.is_sequence([1,2,3])"
      ],
      "execution_count": 5,
      "outputs": [
        {
          "output_type": "execute_result",
          "data": {
            "text/plain": [
              "True"
            ]
          },
          "metadata": {
            "tags": []
          },
          "execution_count": 5
        }
      ]
    },
    {
      "cell_type": "code",
      "metadata": {
        "id": "QrFmt6iOicEL",
        "colab_type": "code",
        "outputId": "5e5736c2-a6ac-4e27-c5ed-ded449ad0776",
        "colab": {
          "base_uri": "https://localhost:8080/",
          "height": 34
        }
      },
      "source": [
        "cj.is_sequence('hi')"
      ],
      "execution_count": 6,
      "outputs": [
        {
          "output_type": "execute_result",
          "data": {
            "text/plain": [
              "False"
            ]
          },
          "metadata": {
            "tags": []
          },
          "execution_count": 6
        }
      ]
    },
    {
      "cell_type": "markdown",
      "metadata": {
        "id": "q88o7iwCinDY",
        "colab_type": "text"
      },
      "source": [
        "###theta_angle\n",
        "\n",
        "Calculates and returns theta angle between two vectors"
      ]
    },
    {
      "cell_type": "code",
      "metadata": {
        "id": "f547KjDWisWw",
        "colab_type": "code",
        "outputId": "180116a0-2f81-4b89-9d24-ecb070cdcb30",
        "colab": {
          "base_uri": "https://localhost:8080/",
          "height": 34
        }
      },
      "source": [
        "u = (2,2)\n",
        "v = (0, -2)\n",
        "cj.theta_angle(u, v)"
      ],
      "execution_count": 7,
      "outputs": [
        {
          "output_type": "execute_result",
          "data": {
            "text/plain": [
              "135.0"
            ]
          },
          "metadata": {
            "tags": []
          },
          "execution_count": 7
        }
      ]
    },
    {
      "cell_type": "markdown",
      "metadata": {
        "id": "Ho09h5KStktn",
        "colab_type": "text"
      },
      "source": [
        "###group_items_in_batches\n",
        "responsible for grouping items in batch taking into account the quantity of items per batch"
      ]
    },
    {
      "cell_type": "code",
      "metadata": {
        "id": "TXgvv3b2y1A9",
        "colab_type": "code",
        "outputId": "8a9db71b-26b2-4eb5-e4e3-dd48ba8f49e1",
        "colab": {
          "base_uri": "https://localhost:8080/",
          "height": 34
        }
      },
      "source": [
        "my_var = [1,2,3,4]\n",
        "num_items_per_batch = 4\n",
        "result = cj.group_items_in_batches(items=my_var, items_per_batch=num_items_per_batch)\n",
        "print(f\"items per batch with leftovers: {result}\")"
      ],
      "execution_count": 8,
      "outputs": [
        {
          "output_type": "stream",
          "text": [
            "items per batch with leftovers: [[1, 2, 3, 4]]\n"
          ],
          "name": "stdout"
        }
      ]
    },
    {
      "cell_type": "code",
      "metadata": {
        "id": "YWvTGuECtwHj",
        "colab_type": "code",
        "outputId": "d978f145-09ac-4b10-f0fa-5bc95f4de1ea",
        "colab": {
          "base_uri": "https://localhost:8080/",
          "height": 34
        }
      },
      "source": [
        "\"\"\"\n",
        "Note that the last batch does not contain the same number as the previous batch,\n",
        "this is due to the split split. You can choose to fill this void as in the example below.\n",
        "\"\"\"\n",
        "my_var = [1,2,3,4]\n",
        "num_items_per_batch = 3\n",
        "\n",
        "result = cj.group_items_in_batches(items=my_var, items_per_batch=num_items_per_batch, fill=\"cereja\")\n",
        "print(f\"fill values: {result}\")"
      ],
      "execution_count": 9,
      "outputs": [
        {
          "output_type": "stream",
          "text": [
            "fill values: [[1, 2, 3], [4, 'cereja', 'cereja']]\n"
          ],
          "name": "stdout"
        }
      ]
    },
    {
      "cell_type": "code",
      "metadata": {
        "id": "PPVLm9VNt3wj",
        "colab_type": "code",
        "outputId": "fde0941e-a897-4ba3-d719-006488e880f6",
        "colab": {
          "base_uri": "https://localhost:8080/",
          "height": 34
        }
      },
      "source": [
        "# Other examples\n",
        "result = cj.group_items_in_batches(items=['a','b','c','d'], items_per_batch=2)\n",
        "print(f\"Other examples: {result}\")"
      ],
      "execution_count": 10,
      "outputs": [
        {
          "output_type": "stream",
          "text": [
            "Other examples: [['a', 'b'], ['c', 'd']]\n"
          ],
          "name": "stdout"
        }
      ]
    },
    {
      "cell_type": "markdown",
      "metadata": {
        "id": "y7fcQ6WPuGkn",
        "colab_type": "text"
      },
      "source": [
        "###remove_duplicate_items\n",
        "remove duplicates items in an item list or duplicate items list of list"
      ]
    },
    {
      "cell_type": "code",
      "metadata": {
        "id": "M9lJN5t8AMvs",
        "colab_type": "code",
        "outputId": "df0b1035-e44a-4e76-e3b6-076222229ea8",
        "colab": {
          "base_uri": "https://localhost:8080/",
          "height": 34
        }
      },
      "source": [
        "#simple list\n",
        "my_var = [1,2,3,4,4]\n",
        "result = cj.remove_duplicate_items(my_var)\n",
        "print(f\"simple list: {my_var} --> {result}\")"
      ],
      "execution_count": 11,
      "outputs": [
        {
          "output_type": "stream",
          "text": [
            "simple list: [1, 2, 3, 4, 4] --> [1, 2, 3, 4]\n"
          ],
          "name": "stdout"
        }
      ]
    },
    {
      "cell_type": "code",
      "metadata": {
        "id": "KUVj-_W0uXxa",
        "colab_type": "code",
        "outputId": "25584639-a1f4-4c05-b48b-db5b726b7ec1",
        "colab": {
          "base_uri": "https://localhost:8080/",
          "height": 34
        }
      },
      "source": [
        "#list of list\n",
        "my_var = [[1,2,3,4,4], [1,2,3,4,4]]\n",
        "result = cj.remove_duplicate_items(my_var)\n",
        "print(f\"list of list: {my_var} --> {result}\")"
      ],
      "execution_count": 12,
      "outputs": [
        {
          "output_type": "stream",
          "text": [
            "list of list: [[1, 2, 3, 4, 4], [1, 2, 3, 4, 4]] --> [[1, 2, 3, 4, 4]]\n"
          ],
          "name": "stdout"
        }
      ]
    },
    {
      "cell_type": "code",
      "metadata": {
        "id": "vBPxDdzfujKO",
        "colab_type": "code",
        "outputId": "6386dc2b-db47-40a6-e4ef-4a818d8d084a",
        "colab": {
          "base_uri": "https://localhost:8080/",
          "height": 34
        }
      },
      "source": [
        "# other example\n",
        "my_var = [['hi'], ['hi'], ['ih']]\n",
        "result = cj.remove_duplicate_items(my_var)\n",
        "print(f\"other example: {my_var} --> {result}\")"
      ],
      "execution_count": 13,
      "outputs": [
        {
          "output_type": "stream",
          "text": [
            "other example: [['hi'], ['hi'], ['ih']] --> [['hi'], ['ih']]\n"
          ],
          "name": "stdout"
        }
      ]
    },
    {
      "cell_type": "markdown",
      "metadata": {
        "id": "KbsUISmOkRDD",
        "colab_type": "text"
      },
      "source": [
        "###flatten\n",
        "\n",
        "Receives values, whether arrays of values, regardless of their shape and flatness"
      ]
    },
    {
      "cell_type": "code",
      "metadata": {
        "id": "mxUDUIaGkV_o",
        "colab_type": "code",
        "outputId": "da15ed98-b1e6-429d-93d0-5513e3ac2876",
        "colab": {
          "base_uri": "https://localhost:8080/",
          "height": 34
        }
      },
      "source": [
        "sequence = [[1, 2, 3], [], [[2, [3], 4], 6]]\n",
        "cj.flatten(sequence)"
      ],
      "execution_count": 14,
      "outputs": [
        {
          "output_type": "execute_result",
          "data": {
            "text/plain": [
              "[1, 2, 3, 2, 3, 4, 6]"
            ]
          },
          "metadata": {
            "tags": []
          },
          "execution_count": 14
        }
      ]
    },
    {
      "cell_type": "code",
      "metadata": {
        "id": "5uK1e-rQxcTf",
        "colab_type": "code",
        "outputId": "dbf6af12-7622-4146-c077-7092451b45ac",
        "colab": {
          "base_uri": "https://localhost:8080/",
          "height": 34
        }
      },
      "source": [
        "sequence = [[1, 2, 3], [], [[2, [3], 4], 6]]\n",
        "cj.flatten(sequence, max_recursion=2)"
      ],
      "execution_count": 15,
      "outputs": [
        {
          "output_type": "execute_result",
          "data": {
            "text/plain": [
              "[1, 2, 3, 2, [3], 4, 6]"
            ]
          },
          "metadata": {
            "tags": []
          },
          "execution_count": 15
        }
      ]
    },
    {
      "cell_type": "markdown",
      "metadata": {
        "id": "pzo5oUytvnsG",
        "colab_type": "text"
      },
      "source": [
        "###Freq Class\n",
        "Enumerates the amount of identical intens generating a dictionary of frequencies. Where KEY is item - the original list's item -  and VALUE is the total amount."
      ]
    },
    {
      "cell_type": "markdown",
      "metadata": {
        "id": "qOn877TQxhKW",
        "colab_type": "text"
      },
      "source": [
        "####instance of Freq"
      ]
    },
    {
      "cell_type": "code",
      "metadata": {
        "id": "cNO-l7MKvlRG",
        "colab_type": "code",
        "outputId": "4cdba0b4-95d6-4660-cd94-2268ec41ccd0",
        "colab": {
          "base_uri": "https://localhost:8080/",
          "height": 51
        }
      },
      "source": [
        "# Instance\n",
        "freq = cj.Freq([1,2,3,3,4,5,6,7,6,7,12,31,123,5,3])\n",
        "print(freq)"
      ],
      "execution_count": 16,
      "outputs": [
        {
          "output_type": "stream",
          "text": [
            "WARNING:cereja.arraytools:[!] class still under development\n",
            "{3: 3, 5: 2, 6: 2, 7: 2, 1: 1, 2: 1, 4: 1, 12: 1, 31: 1, 123: 1}\n"
          ],
          "name": "stdout"
        }
      ]
    },
    {
      "cell_type": "markdown",
      "metadata": {
        "id": "ddCDXmX0xmzD",
        "colab_type": "text"
      },
      "source": [
        "####most_freq"
      ]
    },
    {
      "cell_type": "markdown",
      "metadata": {
        "id": "MasIEXjPyD7P",
        "colab_type": "text"
      },
      "source": [
        "returns the most frequent items from the list, the maximum number of items must be entered."
      ]
    },
    {
      "cell_type": "code",
      "metadata": {
        "id": "Sp3jZx3KxYXO",
        "colab_type": "code",
        "outputId": "9a48739a-3542-4cbd-dbad-732424a648f1",
        "colab": {
          "base_uri": "https://localhost:8080/",
          "height": 51
        }
      },
      "source": [
        "freq = cj.Freq([1,2,3,3,4,5,6,7,6,7,12,31,123,5,3])\n",
        "freq.most_freq(4)"
      ],
      "execution_count": 17,
      "outputs": [
        {
          "output_type": "stream",
          "text": [
            "WARNING:cereja.arraytools:[!] class still under development\n"
          ],
          "name": "stdout"
        },
        {
          "output_type": "execute_result",
          "data": {
            "text/plain": [
              "{3: 3, 5: 2, 6: 2, 7: 2}"
            ]
          },
          "metadata": {
            "tags": []
          },
          "execution_count": 17
        }
      ]
    },
    {
      "cell_type": "markdown",
      "metadata": {
        "id": "aErkzjfoyUgj",
        "colab_type": "text"
      },
      "source": [
        "####least_freq\n",
        "When returning the least frequent items from the list, the maximum number of items must be entered."
      ]
    },
    {
      "cell_type": "code",
      "metadata": {
        "id": "aVkXduKezIYs",
        "colab_type": "code",
        "outputId": "ca31aa12-7427-43f2-bc06-9b43c04a4209",
        "colab": {
          "base_uri": "https://localhost:8080/",
          "height": 51
        }
      },
      "source": [
        "freq = cj.Freq([1,2,3,3,4,5,6,7,6,7,12,31,123,5,3])\n",
        "freq.least_freq(4)"
      ],
      "execution_count": 18,
      "outputs": [
        {
          "output_type": "stream",
          "text": [
            "WARNING:cereja.arraytools:[!] class still under development\n"
          ],
          "name": "stdout"
        },
        {
          "output_type": "execute_result",
          "data": {
            "text/plain": [
              "{4: 1, 12: 1, 31: 1, 123: 1}"
            ]
          },
          "metadata": {
            "tags": []
          },
          "execution_count": 18
        }
      ]
    },
    {
      "cell_type": "markdown",
      "metadata": {
        "id": "yxnOWQG8XUOA",
        "colab_type": "text"
      },
      "source": [
        "###Progress\n",
        "A simple way to display progress to the user"
      ]
    },
    {
      "cell_type": "markdown",
      "metadata": {
        "id": "0V7mg0nqi5Ot",
        "colab_type": "text"
      },
      "source": [
        "####Example-1"
      ]
    },
    {
      "cell_type": "code",
      "metadata": {
        "id": "YMWVgjjbXqYO",
        "colab_type": "code",
        "outputId": "34662d55-3a2f-46f7-956f-09eee16be44a",
        "colab": {
          "base_uri": "https://localhost:8080/",
          "height": 68
        }
      },
      "source": [
        "import cereja as cj\n",
        "import time\n",
        "\n",
        "def process_data(i: int):\n",
        "    # simulates some processing \n",
        "    time.sleep(cj.rand_n()/max(abs(i), 1))\n",
        "\n",
        "my_iterable = range(1, 500)\n",
        "my_progress = cj.Progress(\"My Progress\")\n",
        "\n",
        "for i in my_progress(my_iterable):\n",
        "    process_data(i)"
      ],
      "execution_count": 4,
      "outputs": [
        {
          "output_type": "stream",
          "text": [
            "\u001b[31m🍒\u001b[34m My Progress \u001b[36m»\u001b[37m \u001b[37m[==============================] - 100.00% - 🕜 00:00:03 total - \u001b[32mDone! ✅\u001b[32m\u001b[37m \u001b[37m\n",
            "\n",
            "\u001b[31m🍒\u001b[34m My Progress \u001b[36m»\u001b[37m \u001b[37mCereja's console \u001b[31mout!\u001b[37m\u001b[37m\u001b[37m \u001b[37m"
          ],
          "name": "stdout"
        }
      ]
    },
    {
      "cell_type": "markdown",
      "metadata": {
        "id": "a-QUB5_xi-Cc",
        "colab_type": "text"
      },
      "source": [
        "####Custom Display"
      ]
    },
    {
      "cell_type": "markdown",
      "metadata": {
        "id": "HqiI2fOHjeQB",
        "colab_type": "text"
      },
      "source": [
        "Update the percentage by the end of the task"
      ]
    },
    {
      "cell_type": "code",
      "metadata": {
        "id": "zizXGDXIZr2l",
        "colab_type": "code",
        "outputId": "e7a34aa9-66df-41ad-a299-56c5c159273f",
        "colab": {
          "base_uri": "https://localhost:8080/",
          "height": 119
        }
      },
      "source": [
        "import cereja as cj\n",
        "import time\n",
        "\n",
        "progress = cj.Progress(\"My Progress\")\n",
        "print(progress)\n",
        "\n",
        "print(progress[0])\n",
        "print(progress[1])\n",
        "print(progress[2])\n",
        "\n",
        "class MyCustomState(cj.StateBase):\n",
        "    def display(self, current_value, max_value, *args, **kwargs):\n",
        "        return f'{current_value} -> {max_value}'\n",
        "    def done(self, *args, **kwargs):\n",
        "        return f'FINISHED'\n",
        "\n",
        "progress[0] = MyCustomState\n",
        "\n",
        "for i in progress(range(1, 500)):\n",
        "    time.sleep(1/i)"
      ],
      "execution_count": 6,
      "outputs": [
        {
          "output_type": "stream",
          "text": [
            "Progress('__StateBar', '__StatePercent', '__StateTime')\n",
            "\u001b[31m🍒\u001b[34m Example States View \u001b[36m»\u001b[37m \u001b[37m[==============================] - 100.00% - 🕜 -00:00:00 total - \u001b[32mDone! ✅\u001b[32m\u001b[37m \u001b[37m\n",
            "Bar field [==============================]\n",
            "Percent field 100.00%\n",
            "Time field 🕜 00:00:00 total\n",
            "\u001b[31m🍒\u001b[34m My Progress \u001b[36m»\u001b[37m \u001b[37mFINISHED - 100.00% - 🕜 00:00:06 total - \u001b[32mDone! ✅\u001b[32m\u001b[37m \u001b[37m\n"
          ],
          "name": "stdout"
        }
      ]
    },
    {
      "cell_type": "markdown",
      "metadata": {
        "id": "u-1kd_xH2Qw9",
        "colab_type": "text"
      },
      "source": [
        "####Many tasks"
      ]
    },
    {
      "cell_type": "code",
      "metadata": {
        "id": "gIHoEUgX2QCg",
        "colab_type": "code",
        "outputId": "e2ebe3f8-da49-4884-ee3b-3290e28c69ea",
        "colab": {
          "base_uri": "https://localhost:8080/",
          "height": 51
        }
      },
      "source": [
        "import time\n",
        "\n",
        "with cj.Progress(\"Progress Test\") as bar:\n",
        "    time.sleep(5) # Awaiting data!\n",
        "    for i in bar(range(1, 500), 'task-1'):\n",
        "        time.sleep(1 / i)\n",
        "        \n",
        "    # in an abstract way we identified that the previous task ended.\n",
        "    for i in bar(range(1, 400), 'task-2'):\n",
        "        time.sleep(1 / i)"
      ],
      "execution_count": 7,
      "outputs": [
        {
          "output_type": "stream",
          "text": [
            "\u001b[31m🍒\u001b[34m Progress Bar Test(task-1) \u001b[36m»\u001b[37m \u001b[37m[==============================] - 100.00% - 🕜 00:00:06 total - \u001b[32mDone! ✅\u001b[32m\u001b[37m \u001b[37m\n",
            "\u001b[31m🍒\u001b[34m Progress Bar Test(task-2) \u001b[36m»\u001b[37m \u001b[37m[==============================] - 100.00% - 🕜 00:00:06 total - \u001b[32mDone! ✅\u001b[32m\u001b[37m \u001b[37m\n"
          ],
          "name": "stdout"
        }
      ]
    },
    {
      "cell_type": "markdown",
      "metadata": {
        "colab_type": "text",
        "id": "QcMtkhsCG32R"
      },
      "source": [
        "###FileTools\n",
        "Baseline of this"
      ]
    },
    {
      "cell_type": "markdown",
      "metadata": {
        "colab_type": "text",
        "id": "0ccuC2t6HE2l"
      },
      "source": [
        "####Basics Usage"
      ]
    },
    {
      "cell_type": "code",
      "metadata": {
        "id": "2MN_3EiHHHsh",
        "colab_type": "code",
        "colab": {}
      },
      "source": [
        "import cereja as cj\n",
        "\n",
        "data = ['how', 'are', 'you!']\n",
        "# Create new file\n",
        "file_ = cj.File(\"/content/new_file.txt\", data)\n",
        "\n",
        "doc = f\"\"\"\n",
        ">>> file_ = cj.File(\"/content/new_file.txt\", data)\n",
        "\n",
        ">>> file_\n",
        "{file_}\n",
        "\n",
        ">>> file_.size(unit='KB')\n",
        "{repr(file_.size(unit='KB'))}\n",
        "\n",
        ">>> file_.insert(2, ['CerejaFile'])\n",
        "{file_.insert(2, ['CerejaFile'])}\n",
        "\n",
        ">>> file_.content_file\n",
        "{repr(file_.content_file)}\n",
        "\n",
        ">>> file_.content_str\n",
        "{repr(file_.content_str)}\n",
        "\n",
        ">>> file_.size(unit='KB')\n",
        "{repr(file_.size(unit='KB'))}\n",
        "\n",
        ">>> file_.dir_name\n",
        "{repr(file_.dir_name)}\n",
        "\n",
        ">>> file_.dir_path\n",
        "{repr(file_.dir_path)}\n",
        "\n",
        ">>> file_.ext\n",
        "{repr(file_.ext)}\n",
        "\n",
        ">>> file_.file_name\n",
        "{repr(file_.file_name)}\n",
        "\n",
        ">>> file_.file_name_without_ext\n",
        "{repr(file_.file_name_without_ext)}\n",
        "\n",
        ">>> file_.is_empty\n",
        "{repr(file_.is_empty)}\n",
        "\n",
        ">>> file_.is_link\n",
        "{repr(file_.is_link)}\n",
        "\n",
        ">>> file_.line_sep\n",
        "{repr(file_.line_sep)}\n",
        "\n",
        ">>> file_.n_lines\n",
        "{repr(file_.n_lines)}\n",
        "\n",
        ">>> file_.path_\n",
        "{repr(file_.path_)}\n",
        "\"\"\"\n",
        "print(doc)\n",
        "with cj.Progress('Saving File') as prog:\n",
        "    file_.save()"
      ],
      "execution_count": 0,
      "outputs": []
    },
    {
      "cell_type": "markdown",
      "metadata": {
        "id": "SCpqGct6BCmn",
        "colab_type": "text"
      },
      "source": [
        "##Decorators"
      ]
    },
    {
      "cell_type": "markdown",
      "metadata": {
        "id": "5_RAxSJru0ZV",
        "colab_type": "text"
      },
      "source": [
        "###time_exec\n",
        "used to signal or perform a particular function."
      ]
    },
    {
      "cell_type": "code",
      "metadata": {
        "id": "8faV1ZV9BN1w",
        "colab_type": "code",
        "colab": {}
      },
      "source": [
        "cj.set_log_level('INFO') # needed to see message \n",
        "@cj.time_exec\n",
        "def my_function(my_param): # Change-me\n",
        "    print(my_param)\n",
        "\n",
        "my_function(\"Hi Cereja\")"
      ],
      "execution_count": 0,
      "outputs": []
    },
    {
      "cell_type": "markdown",
      "metadata": {
        "colab_type": "text",
        "id": "BJh-p9HmF0Q-"
      },
      "source": [
        "###deprecation\n",
        "used info deprecated func"
      ]
    },
    {
      "cell_type": "code",
      "metadata": {
        "id": "TJZ4tEAuF9F-",
        "colab_type": "code",
        "colab": {
          "base_uri": "https://localhost:8080/",
          "height": 88
        },
        "outputId": "4a375a2e-61d7-4293-b6cc-caa45c348d4f"
      },
      "source": [
        "@cj.depreciation(\"path.dotted.to.alternative\")\n",
        "def foo(bar: str):\n",
        "    return f'Result of Foo -> {bar}'\n",
        "\n",
        "# simule user use func\n",
        "foo(\"Test\")"
      ],
      "execution_count": 10,
      "outputs": [
        {
          "output_type": "stream",
          "text": [
            "/usr/local/lib/python3.6/dist-packages/ipykernel_launcher.py:6: DeprecationWarning: This function will be deprecated in future versions. You can use path.dotted.to.alternative\n",
            "  \n"
          ],
          "name": "stderr"
        },
        {
          "output_type": "execute_result",
          "data": {
            "text/plain": [
              "'Result of Foo -> Test'"
            ]
          },
          "metadata": {
            "tags": []
          },
          "execution_count": 10
        }
      ]
    },
    {
      "cell_type": "markdown",
      "metadata": {
        "id": "XTqMg2BqCutt",
        "colab_type": "text"
      },
      "source": [
        "##Path"
      ]
    },
    {
      "cell_type": "markdown",
      "metadata": {
        "id": "UtBVEmZAvFA8",
        "colab_type": "text"
      },
      "source": [
        "###group_path_from_dir \n",
        "returns data tuples based on the number of items entered for each tuple,\n",
        "follows the default order if no sort function is sent"
      ]
    },
    {
      "cell_type": "code",
      "metadata": {
        "id": "qxpaAczOCxCn",
        "colab_type": "code",
        "outputId": "9b43d269-57c8-4a65-bffa-5e29ce54bef8",
        "colab": {
          "base_uri": "https://localhost:8080/",
          "height": 85
        }
      },
      "source": [
        "\"\"\"\n",
        "group_path_from_dir function ...\n",
        "\n",
        "\"\"\"\n",
        "my_dir = '/content/sample_data'\n",
        "my_ext_file = '.csv'\n",
        "\n",
        "cj.group_path_from_dir(dir_path=my_dir, num_items_on_tuple=2, ext_file=my_ext_file)"
      ],
      "execution_count": 11,
      "outputs": [
        {
          "output_type": "execute_result",
          "data": {
            "text/plain": [
              "[['/content/sample_data/california_housing_test.csv',\n",
              "  '/content/sample_data/california_housing_train.csv'],\n",
              " ['/content/sample_data/mnist_test.csv',\n",
              "  '/content/sample_data/mnist_train_small.csv']]"
            ]
          },
          "metadata": {
            "tags": []
          },
          "execution_count": 11
        }
      ]
    },
    {
      "cell_type": "markdown",
      "metadata": {
        "id": "ckTiv8_kvQAA",
        "colab_type": "text"
      },
      "source": [
        "###file_name"
      ]
    },
    {
      "cell_type": "code",
      "metadata": {
        "id": "qgiqJp8vEU-r",
        "colab_type": "code",
        "outputId": "1c500e41-65d8-48b3-abb0-4c69e5baafc3",
        "colab": {
          "base_uri": "https://localhost:8080/",
          "height": 51
        }
      },
      "source": [
        "my_file_path = '/content/sample_data/california_housing_test.csv'\n",
        "result = cj.file_name(file_path=my_file_path)\n",
        "print(f\"file_path: {my_file_path} --> {result}\")\n",
        "\n",
        "# or with ext\n",
        "result = cj.file_name(file_path=my_file_path, with_ext=True)\n",
        "print(f\"file_path: {my_file_path} --> {result}\")"
      ],
      "execution_count": 12,
      "outputs": [
        {
          "output_type": "stream",
          "text": [
            "file_path: /content/sample_data/california_housing_test.csv --> california_housing_test\n",
            "file_path: /content/sample_data/california_housing_test.csv --> california_housing_test.csv\n"
          ],
          "name": "stdout"
        }
      ]
    }
  ]
}