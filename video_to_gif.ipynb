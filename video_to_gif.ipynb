{
  "nbformat": 4,
  "nbformat_minor": 0,
  "metadata": {
    "colab": {
      "name": "video-to-gif",
      "provenance": [],
      "collapsed_sections": [
        "oE52bBBgGMD3",
        "_64abraWC-t6"
      ],
      "include_colab_link": true
    },
    "kernelspec": {
      "display_name": "Python 3",
      "name": "python3"
    }
  },
  "cells": [
    {
      "cell_type": "markdown",
      "metadata": {
        "id": "view-in-github",
        "colab_type": "text"
      },
      "source": [
        "<a href=\"https://colab.research.google.com/github/cereja-project/colab/blob/master/video_to_gif.ipynb\" target=\"_parent\"><img src=\"https://colab.research.google.com/assets/colab-badge.svg\" alt=\"Open In Colab\"/></a>"
      ]
    },
    {
      "cell_type": "markdown",
      "metadata": {
        "id": "92sAWcn3B9zE"
      },
      "source": [
        "# Convert Vídeo to Gif Tool"
      ]
    },
    {
      "cell_type": "markdown",
      "metadata": {
        "id": "oE52bBBgGMD3"
      },
      "source": [
        "# installation of prerequisites"
      ]
    },
    {
      "cell_type": "code",
      "metadata": {
        "id": "GSO-tZdT3mrT"
      },
      "source": [
        "!apt-get update && sudo apt-get install imagemagick\r\n",
        "!pip install cereja"
      ],
      "execution_count": null,
      "outputs": []
    },
    {
      "cell_type": "code",
      "metadata": {
        "id": "5pGaLXSI3yNN",
        "colab": {
          "base_uri": "https://localhost:8080/"
        },
        "outputId": "484cda48-14a1-431e-8c07-3fd88a5de004"
      },
      "source": [
        "import cereja as cj\r\n",
        "from google.colab import files\r\n",
        "from google.colab import drive"
      ],
      "execution_count": 1,
      "outputs": [
        {
          "output_type": "stream",
          "text": [
            "\u001b[31m🍒\u001b[30m Using Cereja v.1.3.0\r\n"
          ],
          "name": "stdout"
        }
      ]
    },
    {
      "cell_type": "markdown",
      "metadata": {
        "id": "_64abraWC-t6"
      },
      "source": [
        "# Convert Single Vídeo to Gif"
      ]
    },
    {
      "cell_type": "markdown",
      "metadata": {
        "id": "B71xBKJiDDd4"
      },
      "source": [
        "## Upload Vídeo"
      ]
    },
    {
      "cell_type": "code",
      "metadata": {
        "id": "U3TGXA3lCwdX"
      },
      "source": [
        "file_path = cj.Path(\"/content/Introduction HBCPA.mov\")\n",
        "output = cj.Path('/content').join(f\"{file_path.stem}.gif\")"
      ],
      "execution_count": 9,
      "outputs": []
    },
    {
      "cell_type": "markdown",
      "metadata": {
        "id": "EpDVhKGrFx1d"
      },
      "source": [
        "## Convert"
      ]
    },
    {
      "cell_type": "code",
      "metadata": {
        "id": "dGO2ykFBCrZE"
      },
      "source": [
        "cj.console.log(f\"{{red}}{file_path.name}{{endred}} -> {{green}}{output.name}{{endgreen}}\")\r\n",
        "!ffmpeg -hide_banner -loglevel panic -i \"{file_path}\" -vf \"fps=10,scale=320:-1:flags=lanczos\" -c:v pam -f image2pipe - | convert -delay 10 - -loop 0 -layers optimize '{output}'\r\n",
        "files.download(output)"
      ],
      "execution_count": null,
      "outputs": []
    },
    {
      "cell_type": "markdown",
      "metadata": {
        "id": "0dmS2T1I8mWZ"
      },
      "source": [
        "# Convert many Video to Gif"
      ]
    },
    {
      "cell_type": "markdown",
      "metadata": {
        "id": "Ls71egyc8qrk"
      },
      "source": [
        "## From Google Drive"
      ]
    },
    {
      "cell_type": "code",
      "metadata": {
        "colab": {
          "base_uri": "https://localhost:8080/"
        },
        "id": "rP8xN30I8i0L",
        "outputId": "555f23f2-98b0-47cc-e1a7-eac46a5ef14d"
      },
      "source": [
        "drive.mount('/content/gdrive')"
      ],
      "execution_count": 6,
      "outputs": [
        {
          "output_type": "stream",
          "text": [
            "Mounted at /content/gdrive\n"
          ],
          "name": "stdout"
        }
      ]
    },
    {
      "cell_type": "markdown",
      "metadata": {
        "id": "uHkrTd9rGlrI"
      },
      "source": [
        "## Input/Output Dirs"
      ]
    },
    {
      "cell_type": "code",
      "metadata": {
        "id": "xRkvzEYr9IvI"
      },
      "source": [
        "VIDEOS_DIR = \"/content/gdrive/PATH/TO/DIR\" # CHANGE\r\n",
        "OUTPUT_DIR = \"/content/gdrive/PATH/TO/DIR\" # CHANGE\r\n",
        "assert VIDEOS_DIR != \"/content/gdrive/PATH/TO/DIR\" != OUTPUT_DIR, \"Need change VIDEOS_DIR and OUTPUT_DIR\""
      ],
      "execution_count": 23,
      "outputs": []
    },
    {
      "cell_type": "markdown",
      "metadata": {
        "id": "ytKXD4d4Gg5B"
      },
      "source": [
        "## Convert"
      ]
    },
    {
      "cell_type": "code",
      "metadata": {
        "id": "LFcr3J1w4Mu5"
      },
      "source": [
        "for p in cj.Path.list_files(VIDEOS_DIR):\r\n",
        "    output = cj.Path(OUTPUT_DIR).join(f'{p.stem}.gif')\r\n",
        "    cj.console.log(f\"{{red}}{p.name}{{endred}} -> {{green}}{output.name}{{endgreen}}\")\r\n",
        "    !ffmpeg -hide_banner -loglevel panic -i \"{p}\" -vf \"fps=10,scale=320:-1:flags=lanczos\" -c:v pam -f image2pipe - | convert -delay 10 - -loop 0 -layers optimize '{output}'"
      ],
      "execution_count": null,
      "outputs": []
    }
  ]
}